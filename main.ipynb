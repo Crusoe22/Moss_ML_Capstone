{
 "cells": [
  {
   "cell_type": "markdown",
   "id": "bfbe60be",
   "metadata": {},
   "source": [
    "Downloading S&P500 Price Data"
   ]
  },
  {
   "cell_type": "code",
   "execution_count": 7,
   "id": "a87a78cf",
   "metadata": {},
   "outputs": [],
   "source": [
    "# Call Yahoo Finance API to download daily stock and index prices\n",
    "import yfinance as yf\n",
    "import matplotlib\n",
    "import pandas as pd\n",
    "import os"
   ]
  },
  {
   "cell_type": "code",
   "execution_count": 8,
   "id": "c06c675f",
   "metadata": {},
   "outputs": [],
   "source": [
    "# Downlad price history for a single symbol with .Ticker\n",
    "nasdaq = yf.Ticker(\"^IXIC\")"
   ]
  },
  {
   "cell_type": "code",
   "execution_count": 9,
   "id": "42bffcd2",
   "metadata": {},
   "outputs": [],
   "source": [
    "# Query Historical Prices\n",
    "nasdaq = nasdaq.history(period=\"max\")"
   ]
  },
  {
   "cell_type": "code",
   "execution_count": 10,
   "id": "b8fc9a05",
   "metadata": {},
   "outputs": [
    {
     "data": {
      "text/html": [
       "<div>\n",
       "<style scoped>\n",
       "    .dataframe tbody tr th:only-of-type {\n",
       "        vertical-align: middle;\n",
       "    }\n",
       "\n",
       "    .dataframe tbody tr th {\n",
       "        vertical-align: top;\n",
       "    }\n",
       "\n",
       "    .dataframe thead th {\n",
       "        text-align: right;\n",
       "    }\n",
       "</style>\n",
       "<table border=\"1\" class=\"dataframe\">\n",
       "  <thead>\n",
       "    <tr style=\"text-align: right;\">\n",
       "      <th></th>\n",
       "      <th>Open</th>\n",
       "      <th>High</th>\n",
       "      <th>Low</th>\n",
       "      <th>Close</th>\n",
       "      <th>Volume</th>\n",
       "      <th>Dividends</th>\n",
       "      <th>Stock Splits</th>\n",
       "    </tr>\n",
       "    <tr>\n",
       "      <th>Date</th>\n",
       "      <th></th>\n",
       "      <th></th>\n",
       "      <th></th>\n",
       "      <th></th>\n",
       "      <th></th>\n",
       "      <th></th>\n",
       "      <th></th>\n",
       "    </tr>\n",
       "  </thead>\n",
       "  <tbody>\n",
       "    <tr>\n",
       "      <th>1971-02-05 00:00:00-05:00</th>\n",
       "      <td>100.000000</td>\n",
       "      <td>100.000000</td>\n",
       "      <td>100.000000</td>\n",
       "      <td>100.000000</td>\n",
       "      <td>0</td>\n",
       "      <td>0.0</td>\n",
       "      <td>0.0</td>\n",
       "    </tr>\n",
       "    <tr>\n",
       "      <th>1971-02-08 00:00:00-05:00</th>\n",
       "      <td>100.839996</td>\n",
       "      <td>100.839996</td>\n",
       "      <td>100.839996</td>\n",
       "      <td>100.839996</td>\n",
       "      <td>0</td>\n",
       "      <td>0.0</td>\n",
       "      <td>0.0</td>\n",
       "    </tr>\n",
       "    <tr>\n",
       "      <th>1971-02-09 00:00:00-05:00</th>\n",
       "      <td>100.760002</td>\n",
       "      <td>100.760002</td>\n",
       "      <td>100.760002</td>\n",
       "      <td>100.760002</td>\n",
       "      <td>0</td>\n",
       "      <td>0.0</td>\n",
       "      <td>0.0</td>\n",
       "    </tr>\n",
       "    <tr>\n",
       "      <th>1971-02-10 00:00:00-05:00</th>\n",
       "      <td>100.690002</td>\n",
       "      <td>100.690002</td>\n",
       "      <td>100.690002</td>\n",
       "      <td>100.690002</td>\n",
       "      <td>0</td>\n",
       "      <td>0.0</td>\n",
       "      <td>0.0</td>\n",
       "    </tr>\n",
       "    <tr>\n",
       "      <th>1971-02-11 00:00:00-05:00</th>\n",
       "      <td>101.449997</td>\n",
       "      <td>101.449997</td>\n",
       "      <td>101.449997</td>\n",
       "      <td>101.449997</td>\n",
       "      <td>0</td>\n",
       "      <td>0.0</td>\n",
       "      <td>0.0</td>\n",
       "    </tr>\n",
       "    <tr>\n",
       "      <th>...</th>\n",
       "      <td>...</td>\n",
       "      <td>...</td>\n",
       "      <td>...</td>\n",
       "      <td>...</td>\n",
       "      <td>...</td>\n",
       "      <td>...</td>\n",
       "      <td>...</td>\n",
       "    </tr>\n",
       "    <tr>\n",
       "      <th>2025-06-18 00:00:00-04:00</th>\n",
       "      <td>19526.919922</td>\n",
       "      <td>19660.769531</td>\n",
       "      <td>19489.560547</td>\n",
       "      <td>19546.269531</td>\n",
       "      <td>7818790000</td>\n",
       "      <td>0.0</td>\n",
       "      <td>0.0</td>\n",
       "    </tr>\n",
       "    <tr>\n",
       "      <th>2025-06-20 00:00:00-04:00</th>\n",
       "      <td>19639.410156</td>\n",
       "      <td>19696.109375</td>\n",
       "      <td>19380.580078</td>\n",
       "      <td>19447.410156</td>\n",
       "      <td>9969140000</td>\n",
       "      <td>0.0</td>\n",
       "      <td>0.0</td>\n",
       "    </tr>\n",
       "    <tr>\n",
       "      <th>2025-06-23 00:00:00-04:00</th>\n",
       "      <td>19427.009766</td>\n",
       "      <td>19643.699219</td>\n",
       "      <td>19334.980469</td>\n",
       "      <td>19630.970703</td>\n",
       "      <td>9088000000</td>\n",
       "      <td>0.0</td>\n",
       "      <td>0.0</td>\n",
       "    </tr>\n",
       "    <tr>\n",
       "      <th>2025-06-24 00:00:00-04:00</th>\n",
       "      <td>19809.619141</td>\n",
       "      <td>19946.720703</td>\n",
       "      <td>19795.289062</td>\n",
       "      <td>19912.529297</td>\n",
       "      <td>8330090000</td>\n",
       "      <td>0.0</td>\n",
       "      <td>0.0</td>\n",
       "    </tr>\n",
       "    <tr>\n",
       "      <th>2025-06-25 00:00:00-04:00</th>\n",
       "      <td>20013.947266</td>\n",
       "      <td>20036.234375</td>\n",
       "      <td>20012.375000</td>\n",
       "      <td>20027.398438</td>\n",
       "      <td>904886047</td>\n",
       "      <td>0.0</td>\n",
       "      <td>0.0</td>\n",
       "    </tr>\n",
       "  </tbody>\n",
       "</table>\n",
       "<p>13712 rows × 7 columns</p>\n",
       "</div>"
      ],
      "text/plain": [
       "                                   Open          High           Low  \\\n",
       "Date                                                                  \n",
       "1971-02-05 00:00:00-05:00    100.000000    100.000000    100.000000   \n",
       "1971-02-08 00:00:00-05:00    100.839996    100.839996    100.839996   \n",
       "1971-02-09 00:00:00-05:00    100.760002    100.760002    100.760002   \n",
       "1971-02-10 00:00:00-05:00    100.690002    100.690002    100.690002   \n",
       "1971-02-11 00:00:00-05:00    101.449997    101.449997    101.449997   \n",
       "...                                 ...           ...           ...   \n",
       "2025-06-18 00:00:00-04:00  19526.919922  19660.769531  19489.560547   \n",
       "2025-06-20 00:00:00-04:00  19639.410156  19696.109375  19380.580078   \n",
       "2025-06-23 00:00:00-04:00  19427.009766  19643.699219  19334.980469   \n",
       "2025-06-24 00:00:00-04:00  19809.619141  19946.720703  19795.289062   \n",
       "2025-06-25 00:00:00-04:00  20013.947266  20036.234375  20012.375000   \n",
       "\n",
       "                                  Close      Volume  Dividends  Stock Splits  \n",
       "Date                                                                          \n",
       "1971-02-05 00:00:00-05:00    100.000000           0        0.0           0.0  \n",
       "1971-02-08 00:00:00-05:00    100.839996           0        0.0           0.0  \n",
       "1971-02-09 00:00:00-05:00    100.760002           0        0.0           0.0  \n",
       "1971-02-10 00:00:00-05:00    100.690002           0        0.0           0.0  \n",
       "1971-02-11 00:00:00-05:00    101.449997           0        0.0           0.0  \n",
       "...                                 ...         ...        ...           ...  \n",
       "2025-06-18 00:00:00-04:00  19546.269531  7818790000        0.0           0.0  \n",
       "2025-06-20 00:00:00-04:00  19447.410156  9969140000        0.0           0.0  \n",
       "2025-06-23 00:00:00-04:00  19630.970703  9088000000        0.0           0.0  \n",
       "2025-06-24 00:00:00-04:00  19912.529297  8330090000        0.0           0.0  \n",
       "2025-06-25 00:00:00-04:00  20027.398438   904886047        0.0           0.0  \n",
       "\n",
       "[13712 rows x 7 columns]"
      ]
     },
     "execution_count": 10,
     "metadata": {},
     "output_type": "execute_result"
    }
   ],
   "source": [
    "nasdaq"
   ]
  },
  {
   "cell_type": "code",
   "execution_count": 11,
   "id": "d8ee67c4",
   "metadata": {},
   "outputs": [
    {
     "data": {
      "text/plain": [
       "DatetimeIndex(['1971-02-05 00:00:00-05:00', '1971-02-08 00:00:00-05:00',\n",
       "               '1971-02-09 00:00:00-05:00', '1971-02-10 00:00:00-05:00',\n",
       "               '1971-02-11 00:00:00-05:00', '1971-02-12 00:00:00-05:00',\n",
       "               '1971-02-16 00:00:00-05:00', '1971-02-17 00:00:00-05:00',\n",
       "               '1971-02-18 00:00:00-05:00', '1971-02-19 00:00:00-05:00',\n",
       "               ...\n",
       "               '2025-06-11 00:00:00-04:00', '2025-06-12 00:00:00-04:00',\n",
       "               '2025-06-13 00:00:00-04:00', '2025-06-16 00:00:00-04:00',\n",
       "               '2025-06-17 00:00:00-04:00', '2025-06-18 00:00:00-04:00',\n",
       "               '2025-06-20 00:00:00-04:00', '2025-06-23 00:00:00-04:00',\n",
       "               '2025-06-24 00:00:00-04:00', '2025-06-25 00:00:00-04:00'],\n",
       "              dtype='datetime64[ns, America/New_York]', name='Date', length=13712, freq=None)"
      ]
     },
     "execution_count": 11,
     "metadata": {},
     "output_type": "execute_result"
    }
   ],
   "source": [
    "nasdaq.index"
   ]
  },
  {
   "cell_type": "markdown",
   "id": "ba41f76a",
   "metadata": {},
   "source": [
    "#### Cleaning and Visualizing NASDAQ Data"
   ]
  },
  {
   "cell_type": "code",
   "execution_count": null,
   "id": "29a47d31",
   "metadata": {},
   "outputs": [
    {
     "data": {
      "text/plain": [
       "<Axes: xlabel='Date'>"
      ]
     },
     "execution_count": 14,
     "metadata": {},
     "output_type": "execute_result"
    },
    {
     "data": {
      "image/png": "[encoded data removed]",
      "text/plain": [
       "<Figure size 640x480 with 1 Axes>"
      ]
     },
     "metadata": {},
     "output_type": "display_data"
    }
   ],
   "source": [
    "# Plot trend of data using DateTime index\n",
    "nasdaq.plot.line(y=\"Close\", use_index=True)"
   ]
  }
 ],
 "metadata": {
  "kernelspec": {
   "display_name": ".venv",
   "language": "python",
   "name": "python3"
  },
  "language_info": {
   "codemirror_mode": {
    "name": "ipython",
    "version": 3
   },
   "file_extension": ".py",
   "mimetype": "text/x-python",
   "name": "python",
   "nbconvert_exporter": "python",
   "pygments_lexer": "ipython3",
   "version": "3.11.9"
  }
 },
 "nbformat": 4,
 "nbformat_minor": 5
}
